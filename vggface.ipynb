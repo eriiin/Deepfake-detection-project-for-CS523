{
 "cells": [
  {
   "cell_type": "markdown",
   "id": "4ad759eb",
   "metadata": {},
   "source": [
    "# deepfake images detection with vgg face"
   ]
  },
  {
   "cell_type": "code",
   "execution_count": 24,
   "id": "a227ebc5",
   "metadata": {},
   "outputs": [],
   "source": [
    "# import \n",
    "import os\n",
    "\n",
    "import cv2\n",
    "import pandas as pd\n",
    "import numpy as np\n",
    "import tensorflow as tf\n",
    "import matplotlib.pyplot as plt\n",
    "\n",
    "from sklearn import metrics\n",
    "\n",
    "from keras_vggface.vggface import VGGFace\n",
    "from keras.models import Sequential, Model\n",
    "from keras.layers import Dense, Flatten, Dropout\n",
    "from keras.callbacks import ReduceLROnPlateau\n",
    "\n",
    "from keras.optimizers import Adam, RMSprop\n",
    "from keras.preprocessing.image import ImageDataGenerator\n"
   ]
  },
  {
   "cell_type": "code",
   "execution_count": 30,
   "id": "12331705",
   "metadata": {},
   "outputs": [
    {
     "name": "stdout",
     "output_type": "stream",
     "text": [
      "Found 100000 images belonging to 2 classes.\n",
      "Found 20000 images belonging to 2 classes.\n",
      "Found 20000 images belonging to 2 classes.\n"
     ]
    }
   ],
   "source": [
    "base_path = 'archive/real_vs_fake/real-vs-fake/'\n",
    "image_gen = ImageDataGenerator(rescale=1./255.)\n",
    "batch_size = 64\n",
    "image_size = (224,224)\n",
    "\n",
    "train_flow = image_gen.flow_from_directory(\n",
    "    base_path + 'train/',\n",
    "    image_size,\n",
    "    batch_size=batch_size,\n",
    "    class_mode='binary'\n",
    ")\n",
    "\n",
    "valid_flow = image_gen.flow_from_directory(\n",
    "    base_path + 'valid/',\n",
    "    image_size,\n",
    "    batch_size=batch_size,\n",
    "    class_mode='binary'\n",
    ")\n",
    "\n",
    "test_flow = image_gen.flow_from_directory(\n",
    "    base_path + 'test/',\n",
    "    image_size,\n",
    "    batch_size=1,\n",
    "    shuffle=False,\n",
    "    class_mode='binary'\n",
    ")\n"
   ]
  },
  {
   "cell_type": "code",
   "execution_count": null,
   "id": "db33aacb",
   "metadata": {},
   "outputs": [],
   "source": []
  },
  {
   "cell_type": "code",
   "execution_count": 26,
   "id": "44e44a68",
   "metadata": {},
   "outputs": [],
   "source": [
    "vgg_model = VGGFace(include_top=False, input_shape = (224,224,3))\n",
    "\n",
    "last_layer = vgg_model.get_layer('pool5').output\n",
    "flat_layer = Flatten(name='flatten')(last_layer)\n",
    "fc1 = Dense(2048, activation='relu', name='fc1')(flat_layer)\n",
    "dense2 = Dense(1, activation='sigmoid', name='dense2')(fc1)\n",
    "\n",
    "custom_vgg_model = Model(vgg_model.input, dense2)"
   ]
  },
  {
   "cell_type": "code",
   "execution_count": 27,
   "id": "8b4cfa1b",
   "metadata": {},
   "outputs": [
    {
     "name": "stdout",
     "output_type": "stream",
     "text": [
      "Model: \"functional_3\"\n",
      "_________________________________________________________________\n",
      "Layer (type)                 Output Shape              Param #   \n",
      "=================================================================\n",
      "input_2 (InputLayer)         [(None, 224, 224, 3)]     0         \n",
      "_________________________________________________________________\n",
      "conv1_1 (Conv2D)             (None, 224, 224, 64)      1792      \n",
      "_________________________________________________________________\n",
      "conv1_2 (Conv2D)             (None, 224, 224, 64)      36928     \n",
      "_________________________________________________________________\n",
      "pool1 (MaxPooling2D)         (None, 112, 112, 64)      0         \n",
      "_________________________________________________________________\n",
      "conv2_1 (Conv2D)             (None, 112, 112, 128)     73856     \n",
      "_________________________________________________________________\n",
      "conv2_2 (Conv2D)             (None, 112, 112, 128)     147584    \n",
      "_________________________________________________________________\n",
      "pool2 (MaxPooling2D)         (None, 56, 56, 128)       0         \n",
      "_________________________________________________________________\n",
      "conv3_1 (Conv2D)             (None, 56, 56, 256)       295168    \n",
      "_________________________________________________________________\n",
      "conv3_2 (Conv2D)             (None, 56, 56, 256)       590080    \n",
      "_________________________________________________________________\n",
      "conv3_3 (Conv2D)             (None, 56, 56, 256)       590080    \n",
      "_________________________________________________________________\n",
      "pool3 (MaxPooling2D)         (None, 28, 28, 256)       0         \n",
      "_________________________________________________________________\n",
      "conv4_1 (Conv2D)             (None, 28, 28, 512)       1180160   \n",
      "_________________________________________________________________\n",
      "conv4_2 (Conv2D)             (None, 28, 28, 512)       2359808   \n",
      "_________________________________________________________________\n",
      "conv4_3 (Conv2D)             (None, 28, 28, 512)       2359808   \n",
      "_________________________________________________________________\n",
      "pool4 (MaxPooling2D)         (None, 14, 14, 512)       0         \n",
      "_________________________________________________________________\n",
      "conv5_1 (Conv2D)             (None, 14, 14, 512)       2359808   \n",
      "_________________________________________________________________\n",
      "conv5_2 (Conv2D)             (None, 14, 14, 512)       2359808   \n",
      "_________________________________________________________________\n",
      "conv5_3 (Conv2D)             (None, 14, 14, 512)       2359808   \n",
      "_________________________________________________________________\n",
      "pool5 (MaxPooling2D)         (None, 7, 7, 512)         0         \n",
      "_________________________________________________________________\n",
      "flatten (Flatten)            (None, 25088)             0         \n",
      "_________________________________________________________________\n",
      "fc1 (Dense)                  (None, 2048)              51382272  \n",
      "_________________________________________________________________\n",
      "dense2 (Dense)               (None, 1)                 2049      \n",
      "=================================================================\n",
      "Total params: 66,099,009\n",
      "Trainable params: 66,099,009\n",
      "Non-trainable params: 0\n",
      "_________________________________________________________________\n"
     ]
    }
   ],
   "source": [
    "custom_vgg_model.summary()"
   ]
  },
  {
   "cell_type": "code",
   "execution_count": 31,
   "id": "a95b33b1",
   "metadata": {},
   "outputs": [],
   "source": [
    "# compile\n",
    "custom_vgg_model.compile(\n",
    "    loss='binary_crossentropy',\n",
    "    optimizer=Adam(0.0002), \n",
    "    metrics=['acc']\n",
    ")"
   ]
  },
  {
   "cell_type": "code",
   "execution_count": null,
   "id": "97676601",
   "metadata": {},
   "outputs": [
    {
     "name": "stdout",
     "output_type": "stream",
     "text": [
      "Epoch 1/5\n",
      "6/6 [==============================] - 125s 21s/step - loss: 0.7203 - acc: 0.5078 - val_loss: 0.6655 - val_acc: 0.4688\n",
      "Epoch 2/5\n",
      "3/6 [==============>...............] - ETA: 51s - loss: 0.6633 - acc: 0.5156"
     ]
    }
   ],
   "source": [
    "train_steps = 400//batch_size\n",
    "valid_steps = 80//batch_size\n",
    "\n",
    "# fit\n",
    "history = custom_vgg_model.fit_generator(\n",
    "    train_flow,\n",
    "    epochs = 5,\n",
    "    steps_per_epoch = train_steps,\n",
    "    validation_data = valid_flow,\n",
    "    validation_steps = valid_steps\n",
    ")"
   ]
  },
  {
   "cell_type": "code",
   "execution_count": null,
   "id": "d29a7fd1",
   "metadata": {},
   "outputs": [],
   "source": [
    "#custom_vgg_model.save('vggface_v1.h5')"
   ]
  },
  {
   "cell_type": "code",
   "execution_count": null,
   "id": "711a2b70",
   "metadata": {},
   "outputs": [],
   "source": [
    "plt.plot(history.history['acc'], label = 'accuracy')\n",
    "plt.plot(history.history['val_acc'], label = 'validation accuracy')\n",
    "plt.title('accuracy')\n",
    "plt.ylabel('Accuracy')\n",
    "plt.xlabel('Epoch')\n",
    "plt.legend(loc='lower left')\n",
    "plt.show()\n",
    "\n",
    "#Loss\n",
    "plt.plot(history.history['loss'], label = \"loss\")\n",
    "plt.plot(history.history['val_loss'], label = \"validation loss\")\n",
    "plt.title('loss')\n",
    "plt.ylabel('Loss')\n",
    "plt.xlabel('Epoch')\n",
    "plt.legend(loc='lower left')\n",
    "plt.show()"
   ]
  },
  {
   "cell_type": "code",
   "execution_count": null,
   "id": "a4913652",
   "metadata": {},
   "outputs": [],
   "source": [
    "test_datagen = ImageDataGenerator(rescale=1. / 255)\n",
    "testpath = 'testdata/test/'\n",
    "\n",
    "eval_generator = test_datagen.flow_from_directory(testpath,target_size=image_size,\n",
    "                                                  batch_size=1,shuffle=True,seed=42,class_mode=\"binary\")\n",
    "eval_generator.reset()\n",
    "print(len(eval_generator))\n",
    "x = custom_vgg_model.evaluate_generator(eval_generator,steps = np.ceil(len(eval_generator)),\n",
    "                           use_multiprocessing = False,verbose = 1,workers=1)\n",
    "print('Test loss:' , x[0])\n",
    "print('Test accuracy:',x[1])"
   ]
  },
  {
   "cell_type": "code",
   "execution_count": null,
   "id": "bac55421",
   "metadata": {},
   "outputs": [],
   "source": [
    "y_pred = custom_vgg_model.predict(test_flow)\n",
    "y_test = test_flow.classes"
   ]
  },
  {
   "cell_type": "code",
   "execution_count": null,
   "id": "8f304c9a",
   "metadata": {},
   "outputs": [],
   "source": [
    "print(\"ROC-AUC Score:\", metrics.roc_auc_score(y_test, y_pred))\n",
    "print(\"AP Score:\", metrics.average_precision_score(y_test, y_pred))\n",
    "print()\n",
    "print(metrics.classification_report(y_test, y_pred > 0.5))"
   ]
  },
  {
   "cell_type": "code",
   "execution_count": null,
   "id": "e75958d6",
   "metadata": {},
   "outputs": [],
   "source": [
    "from sklearn.manifold import TSNE\n",
    "\n",
    "intermediate_layer_model = tf.keras.models.Model(inputs=custom_vgg_model.input,\n",
    "                                        outputs=custom_vgg_model.get_layer('dense2').output)\n",
    "\n",
    "tsne_eval_generator = test_datagen.flow_from_directory(base_path,target_size=image_size,\n",
    "                                                  batch_size=1,shuffle=False,seed=42,class_mode=\"binary\")\n",
    "\n",
    "    \n",
    "pred = intermediate_layer_model.predict_generator(tsne_eval_generator,270,verbose=1)\n",
    "print(pred.shape)\n",
    "features = TSNE(n_components=2).fit_transform(pred)\n",
    "print(features.shape)\n",
    "\n",
    "x1,x2,y1,y2 = [],[],[],[]\n",
    "cls = tsne_eval_generator.classes\n",
    "for i in range(len(features)):\n",
    "    if cls[i] == 0: \n",
    "        x1.append(features[i, 0])\n",
    "        y1.append(features[i, 1])    \n",
    "    else:\n",
    "        x2.append(features[i, 0])\n",
    "        y2.append(features[i, 1])\n",
    "\n",
    "plt.figure()\n",
    "plt.plot(x1, y1, 'ro', label=\"real\")\n",
    "plt.plot(x2, y2, 'bo', label=\"fake\")\n",
    "plt.legend(loc='upper right')"
   ]
  },
  {
   "cell_type": "code",
   "execution_count": null,
   "id": "fa346535",
   "metadata": {},
   "outputs": [],
   "source": []
  }
 ],
 "metadata": {
  "kernelspec": {
   "display_name": "Python 3",
   "language": "python",
   "name": "python3"
  },
  "language_info": {
   "codemirror_mode": {
    "name": "ipython",
    "version": 3
   },
   "file_extension": ".py",
   "mimetype": "text/x-python",
   "name": "python",
   "nbconvert_exporter": "python",
   "pygments_lexer": "ipython3",
   "version": "3.8.8"
  }
 },
 "nbformat": 4,
 "nbformat_minor": 5
}
