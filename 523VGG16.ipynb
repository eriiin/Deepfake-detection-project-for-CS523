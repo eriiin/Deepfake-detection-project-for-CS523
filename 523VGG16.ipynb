{
 "cells": [
  {
   "cell_type": "markdown",
   "id": "4ad759eb",
   "metadata": {},
   "source": [
    "# deepfake images detection with vgg16"
   ]
  },
  {
   "cell_type": "code",
   "execution_count": 1,
   "id": "a227ebc5",
   "metadata": {},
   "outputs": [],
   "source": [
    "# import \n",
    "import os\n",
    "\n",
    "import cv2\n",
    "import pandas as pd\n",
    "import numpy as np\n",
    "import tensorflow as tf\n",
    "import matplotlib.pyplot as plt\n",
    "\n",
    "from sklearn import metrics\n",
    "\n",
    "from tensorflow.keras.applications import VGG16\n",
    "from tensorflow.keras.models import Sequential, Model\n",
    "from tensorflow.keras.layers import Dense, Flatten, Dropout\n",
    "from tensorflow.keras.callbacks import ReduceLROnPlateau\n",
    "\n",
    "from tensorflow.keras.optimizers import Adam, RMSprop\n",
    "from tensorflow.keras.preprocessing.image import ImageDataGenerator\n"
   ]
  },
  {
   "cell_type": "code",
   "execution_count": 4,
   "id": "12331705",
   "metadata": {},
   "outputs": [
    {
     "name": "stdout",
     "output_type": "stream",
     "text": [
      "Found 100000 images belonging to 2 classes.\n",
      "Found 10576 images belonging to 2 classes.\n",
      "Found 20000 images belonging to 2 classes.\n"
     ]
    }
   ],
   "source": [
    "base_path = './140K-data/real_vs_fake/real-vs-fake/'\n",
    "image_gen = ImageDataGenerator(rescale=1./255., validation_split = 0.99)\n",
    "batch_size = 64\n",
    "image_size = (224,224)\n",
    "\n",
    "train_flow = image_gen.flow_from_directory(\n",
    "    base_path + 'train/',\n",
    "    image_size,\n",
    "    batch_size=batch_size,\n",
    "    class_mode='binary',\n",
    "    #subset = 'training'\n",
    ")\n",
    "\n",
    "valid_flow = image_gen.flow_from_directory(\n",
    "    base_path + 'valid/',\n",
    "    image_size,\n",
    "    batch_size=batch_size,\n",
    "    class_mode='binary',\n",
    "    #subset = 'training'\n",
    ")\n",
    "\n",
    "test_flow = image_gen.flow_from_directory(\n",
    "    base_path + 'test/',\n",
    "    image_size,\n",
    "    batch_size=1,\n",
    "    shuffle=False,\n",
    "    class_mode='binary',\n",
    "    #subset = 'training'\n",
    ")\n"
   ]
  },
  {
   "cell_type": "code",
   "execution_count": 5,
   "id": "44e44a68",
   "metadata": {},
   "outputs": [
    {
     "name": "stdout",
     "output_type": "stream",
     "text": [
      "Downloading data from https://storage.googleapis.com/tensorflow/keras-applications/vgg16/vgg16_weights_tf_dim_ordering_tf_kernels_notop.h5\n",
      "58892288/58889256 [==============================] - 0s 0us/step\n",
      "Model: \"sequential\"\n",
      "_________________________________________________________________\n",
      "Layer (type)                 Output Shape              Param #   \n",
      "=================================================================\n",
      "vgg16 (Functional)           (None, 7, 7, 512)         14714688  \n",
      "_________________________________________________________________\n",
      "flatten (Flatten)            (None, 25088)             0         \n",
      "_________________________________________________________________\n",
      "dense_feature (Dense)        (None, 256)               6422784   \n",
      "_________________________________________________________________\n",
      "dense (Dense)                (None, 1)                 257       \n",
      "=================================================================\n",
      "Total params: 21,137,729\n",
      "Trainable params: 6,423,041\n",
      "Non-trainable params: 14,714,688\n",
      "_________________________________________________________________\n"
     ]
    }
   ],
   "source": [
    "#vgg_model = VGG16(include_top=False, input_shape = (224,224,3))\n",
    "\n",
    "vgg_16 = VGG16(weights='imagenet', include_top=False, input_shape=(224, 224, 3), pooling='None', classes=2)\n",
    "vgg_16.trainable = False\n",
    "\n",
    "vgg_model = Sequential()\n",
    "vgg_model.add(vgg_16)\n",
    "vgg_model.add(Flatten())\n",
    "vgg_model.add(Dense(256, activation='relu', name='dense_feature'))\n",
    "vgg_model.add(Dense(1, activation=\"sigmoid\"))\n",
    "\n",
    "vgg_model.build(input_shape=(224, 224, 3))\n",
    "vgg_model.summary()\n",
    "\n",
    "\n",
    "#custom_vgg_model = Model(vgg_model.input, dense2)"
   ]
  },
  {
   "cell_type": "code",
   "execution_count": null,
   "id": "8b4cfa1b",
   "metadata": {
    "scrolled": false
   },
   "outputs": [],
   "source": [
    "#custom_vgg_model.summary()"
   ]
  },
  {
   "cell_type": "code",
   "execution_count": 10,
   "id": "11b8060d",
   "metadata": {},
   "outputs": [
    {
     "name": "stdout",
     "output_type": "stream",
     "text": [
      "Defaulting to user installation because normal site-packages is not writeable\n",
      "Requirement already satisfied: visualkeras in /usr4/cs542sp/yanjie17/.local/lib/python3.8/site-packages (0.0.2)\n",
      "Requirement already satisfied: pillow>=6.2.0 in /share/pkg.7/python3/3.8.10/install/lib/python3.8/site-packages (from visualkeras) (7.2.0)\n",
      "Requirement already satisfied: aggdraw>=1.3.11 in /usr4/cs542sp/yanjie17/.local/lib/python3.8/site-packages (from visualkeras) (1.3.12)\n",
      "Requirement already satisfied: numpy>=1.18.1 in /share/pkg.7/tensorflow/2.3.1/install/lib/python3.8/site-packages (from visualkeras) (1.18.5)\n",
      "\u001b[33mWARNING: You are using pip version 21.1.1; however, version 21.2.4 is available.\n",
      "You should consider upgrading via the '/share/pkg.7/python3/3.8.10/install/bin/python3.8 -m pip install --upgrade pip' command.\u001b[0m\n"
     ]
    },
    {
     "data": {
      "image/png": "[encoded data removed]",
      "text/plain": [
       "<PIL.Image.Image image mode=RGBA size=555x38 at 0x2AFE5BEF5430>"
      ]
     },
     "execution_count": 10,
     "metadata": {},
     "output_type": "execute_result"
    }
   ],
   "source": [
    "!pip install visualkeras\n",
    "import visualkeras\n",
    "\n",
    "#model = ...\n",
    "\n",
    "visualkeras.layered_view(vgg_model).show() # display using your system viewer\n",
    "visualkeras.layered_view(vgg_model, to_file='output.png') # write to disk\n",
    "visualkeras.layered_view(vgg_model, to_file='output.png').show() # write and show\n",
    "\n",
    "visualkeras.layered_view(vgg_model)"
   ]
  },
  {
   "cell_type": "code",
   "execution_count": 11,
   "id": "a95b33b1",
   "metadata": {},
   "outputs": [],
   "source": [
    "# compile\n",
    "vgg_model.compile(\n",
    "    loss='binary_crossentropy',\n",
    "    optimizer=Adam(0.0002), \n",
    "    metrics=['acc']\n",
    ")"
   ]
  },
  {
   "cell_type": "code",
   "execution_count": 12,
   "id": "97676601",
   "metadata": {},
   "outputs": [
    {
     "name": "stdout",
     "output_type": "stream",
     "text": [
      "WARNING:tensorflow:From <ipython-input-12-f6769915736f>:5: Model.fit_generator (from tensorflow.python.keras.engine.training) is deprecated and will be removed in a future version.\n",
      "Instructions for updating:\n",
      "Please use Model.fit, which supports generators.\n",
      "Epoch 1/10\n",
      "156/156 [==============================] - 212s 1s/step - loss: 0.5932 - acc: 0.6919 - val_loss: 0.4302 - val_acc: 0.8125\n",
      "Epoch 2/10\n",
      "156/156 [==============================] - 188s 1s/step - loss: 0.4554 - acc: 0.7854 - val_loss: 0.3752 - val_acc: 0.8427\n",
      "Epoch 3/10\n",
      "156/156 [==============================] - 181s 1s/step - loss: 0.4067 - acc: 0.8163 - val_loss: 0.5267 - val_acc: 0.7434\n",
      "Epoch 4/10\n",
      "156/156 [==============================] - 163s 1s/step - loss: 0.3768 - acc: 0.8322 - val_loss: 0.4011 - val_acc: 0.8256\n",
      "Epoch 5/10\n",
      "156/156 [==============================] - 142s 909ms/step - loss: 0.3549 - acc: 0.8487 - val_loss: 0.4824 - val_acc: 0.7782\n",
      "Epoch 6/10\n",
      "156/156 [==============================] - 132s 846ms/step - loss: 0.3470 - acc: 0.8520 - val_loss: 0.5696 - val_acc: 0.7238\n",
      "Epoch 7/10\n",
      "156/156 [==============================] - 122s 784ms/step - loss: 0.3267 - acc: 0.8595 - val_loss: 0.4105 - val_acc: 0.8095\n",
      "Epoch 8/10\n",
      "156/156 [==============================] - 108s 691ms/step - loss: 0.3155 - acc: 0.8659 - val_loss: 0.3818 - val_acc: 0.8311\n",
      "Epoch 9/10\n",
      "156/156 [==============================] - 99s 636ms/step - loss: 0.3064 - acc: 0.8760 - val_loss: 0.1923 - val_acc: 0.9315\n",
      "Epoch 10/10\n",
      "156/156 [==============================] - 92s 591ms/step - loss: 0.2956 - acc: 0.8762 - val_loss: 0.4070 - val_acc: 0.8191\n"
     ]
    }
   ],
   "source": [
    "train_steps = 10000//batch_size\n",
    "valid_steps = 2000//batch_size\n",
    "\n",
    "# fit\n",
    "history = vgg_model.fit_generator(\n",
    "    train_flow,\n",
    "    epochs = 10,\n",
    "    steps_per_epoch = train_steps,\n",
    "    validation_data = valid_flow,\n",
    "    validation_steps = valid_steps\n",
    ")"
   ]
  },
  {
   "cell_type": "code",
   "execution_count": 14,
   "id": "d29a7fd1",
   "metadata": {},
   "outputs": [],
   "source": [
    "vgg_model.save('vgg16.h5')"
   ]
  },
  {
   "cell_type": "code",
   "execution_count": 15,
   "id": "711a2b70",
   "metadata": {},
   "outputs": [
    {
     "data": {
      "image/png": "[encoded data removed]",
      "text/plain": [
       "<Figure size 432x288 with 1 Axes>"
      ]
     },
     "metadata": {
      "needs_background": "light"
     },
     "output_type": "display_data"
    },
    {
     "data": {
      "image/png": "[encoded data removed]",
      "text/plain": [
       "<Figure size 432x288 with 1 Axes>"
      ]
     },
     "metadata": {
      "needs_background": "light"
     },
     "output_type": "display_data"
    }
   ],
   "source": [
    "plt.plot(history.history['acc'], '*-b', label = 'accuracy')\n",
    "plt.plot(history.history['val_acc'], '*-r', label = 'validation accuracy')\n",
    "plt.title('accuracy')\n",
    "plt.ylabel('Accuracy')\n",
    "plt.xlabel('Epoch')\n",
    "plt.legend(loc='lower left')\n",
    "plt.show()\n",
    "\n",
    "#Loss\n",
    "plt.plot(history.history['loss'], '*-b', label = \"loss\")\n",
    "plt.plot(history.history['val_loss'], '*-r', label = \"validation loss\")\n",
    "plt.title('loss')\n",
    "plt.ylabel('Loss')\n",
    "plt.xlabel('Epoch')\n",
    "plt.legend(loc='lower left')\n",
    "plt.show()"
   ]
  },
  {
   "cell_type": "code",
   "execution_count": 20,
   "id": "a4913652",
   "metadata": {},
   "outputs": [
    {
     "name": "stdout",
     "output_type": "stream",
     "text": [
      "Found 20000 images belonging to 2 classes.\n",
      "20000\n",
      "20000/20000 [==============================] - 287s 14ms/step - loss: 0.3241 - acc: 0.8611\n",
      "Test loss: 0.3240855038166046\n",
      "Test accuracy: 0.861050009727478\n"
     ]
    }
   ],
   "source": [
    "test_datagen = ImageDataGenerator(rescale=1. / 255, validation_split = 0.1)\n",
    "testpath = './140K-data/real_vs_fake/real-vs-fake/'\n",
    "\n",
    "eval_generator = test_datagen.flow_from_directory(testpath + 'test/',\n",
    "                                                  target_size=image_size,\n",
    "                                                  batch_size=1,\n",
    "                                                  shuffle=True,\n",
    "                                                  seed=42,\n",
    "                                                  class_mode=\"binary\",\n",
    "                                                 # subset = 'training'\n",
    "                                                 )\n",
    "eval_generator.reset()\n",
    "print(len(eval_generator))\n",
    "x = vgg_model.evaluate_generator(eval_generator,steps = np.ceil(len(eval_generator)),\n",
    "                           use_multiprocessing = False,verbose = 1,workers=1)\n",
    "print('Test loss:' , x[0])\n",
    "print('Test accuracy:',x[1])"
   ]
  },
  {
   "cell_type": "code",
   "execution_count": 21,
   "id": "bac55421",
   "metadata": {},
   "outputs": [],
   "source": [
    "y_pred = vgg_model.predict(test_flow)\n",
    "y_test = test_flow.classes"
   ]
  },
  {
   "cell_type": "code",
   "execution_count": 23,
   "id": "8f304c9a",
   "metadata": {},
   "outputs": [
    {
     "name": "stdout",
     "output_type": "stream",
     "text": [
      "ROC-AUC Score: 0.94257265\n",
      "AP Score: 0.9419998949909404\n",
      "\n",
      "              precision    recall  f1-score   support\n",
      "\n",
      "           0       0.91      0.80      0.85     10000\n",
      "           1       0.82      0.92      0.87     10000\n",
      "\n",
      "    accuracy                           0.86     20000\n",
      "   macro avg       0.87      0.86      0.86     20000\n",
      "weighted avg       0.87      0.86      0.86     20000\n",
      "\n"
     ]
    }
   ],
   "source": [
    "print(\"ROC-AUC Score:\", metrics.roc_auc_score(y_test, y_pred))\n",
    "print(\"AP Score:\", metrics.average_precision_score(y_test, y_pred))\n",
    "print()\n",
    "print(metrics.classification_report(y_test, y_pred > 0.5))"
   ]
  },
  {
   "cell_type": "code",
   "execution_count": 35,
   "id": "e75958d6",
   "metadata": {},
   "outputs": [
    {
     "name": "stdout",
     "output_type": "stream",
     "text": [
      "Found 200 images belonging to 2 classes.\n",
      "200/200 [==============================] - 1s 3ms/step\n",
      "(200, 256)\n",
      "(200, 2)\n",
      "100\n",
      "100\n",
      "[0 0 0 0 0 0 0 0 0 0 0 0 0 0 0 0 0 0 0 0 0 0 0 0 0 0 0 0 0 0 0 0 0 0 0 0 0\n",
      " 0 0 0 0 0 0 0 0 0 0 0 0 0 0 0 0 0 0 0 0 0 0 0 0 0 0 0 0 0 0 0 0 0 0 0 0 0\n",
      " 0 0 0 0 0 0 0 0 0 0 0 0 0 0 0 0 0 0 0 0 0 0 0 0 0 0 1 1 1 1 1 1 1 1 1 1 1\n",
      " 1 1 1 1 1 1 1 1 1 1 1 1 1 1 1 1 1 1 1 1 1 1 1 1 1 1 1 1 1 1 1 1 1 1 1 1 1\n",
      " 1 1 1 1 1 1 1 1 1 1 1 1 1 1 1 1 1 1 1 1 1 1 1 1 1 1 1 1 1 1 1 1 1 1 1 1 1\n",
      " 1 1 1 1 1 1 1 1 1 1 1 1 1 1 1]\n"
     ]
    },
    {
     "data": {
      "text/plain": [
       "<matplotlib.legend.Legend at 0x2b0417cb7ca0>"
      ]
     },
     "execution_count": 35,
     "metadata": {},
     "output_type": "execute_result"
    },
    {
     "data": {
      "image/png": "[encoded data removed]",
      "text/plain": [
       "<Figure size 432x288 with 1 Axes>"
      ]
     },
     "metadata": {
      "needs_background": "light"
     },
     "output_type": "display_data"
    }
   ],
   "source": [
    "from sklearn.manifold import TSNE\n",
    "\n",
    "intermediate_layer_model = tf.keras.models.Model(inputs=vgg_model.input,\n",
    "                                        outputs=vgg_model.get_layer('dense_feature').output)\n",
    "\n",
    "newDataGen = ImageDataGenerator(rescale=1. / 255, validation_split = 0.01)\n",
    "\n",
    "tsne_eval_generator = newDataGen.flow_from_directory(base_path+'test/',target_size=image_size,\n",
    "                                                  batch_size=1,shuffle=False,seed=42,class_mode=\"binary\", subset = 'validation')\n",
    "\n",
    "    \n",
    "pred = intermediate_layer_model.predict_generator(tsne_eval_generator,200,verbose=1)\n",
    "print(pred.shape)\n",
    "features = TSNE(n_components=2).fit_transform(pred)\n",
    "print(features.shape)\n",
    "\n",
    "x1,x2,y1,y2 = [],[],[],[]\n",
    "cls = tsne_eval_generator.classes\n",
    "sumA = 0 \n",
    "sumB = 0\n",
    "for i in cls:\n",
    "    if i ==0:\n",
    "        sumA+=1\n",
    "    else:\n",
    "        sumB+=1\n",
    "        \n",
    "print(sumA)\n",
    "print(sumB)\n",
    "print(cls)\n",
    "for i in range(len(features)):\n",
    "    if cls[i] == 0: \n",
    "        x1.append(features[i, 0])\n",
    "        y1.append(features[i, 1])    \n",
    "    else:\n",
    "        x2.append(features[i, 0])\n",
    "        y2.append(features[i, 1])\n",
    "\n",
    "plt.figure()\n",
    "plt.plot(x1, y1, 'ro', label=\"real\")\n",
    "plt.plot(x2, y2, 'bo', label=\"fake\")\n",
    "plt.legend(loc='lower right')"
   ]
  },
  {
   "cell_type": "code",
   "execution_count": null,
   "id": "6eee5da4",
   "metadata": {},
   "outputs": [],
   "source": []
  }
 ],
 "metadata": {
  "kernelspec": {
   "display_name": "Python 3",
   "language": "python",
   "name": "python3"
  },
  "language_info": {
   "codemirror_mode": {
    "name": "ipython",
    "version": 3
   },
   "file_extension": ".py",
   "mimetype": "text/x-python",
   "name": "python",
   "nbconvert_exporter": "python",
   "pygments_lexer": "ipython3",
   "version": "3.8.10"
  }
 },
 "nbformat": 4,
 "nbformat_minor": 5
}
