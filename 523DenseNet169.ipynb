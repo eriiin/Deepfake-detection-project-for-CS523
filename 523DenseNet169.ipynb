{
 "cells": [
  {
   "cell_type": "code",
   "execution_count": 48,
   "id": "2f999ceb",
   "metadata": {
    "scrolled": false
   },
   "outputs": [],
   "source": [
    "#!nvcc --version\n"
   ]
  },
  {
   "cell_type": "code",
   "execution_count": 47,
   "id": "a5d8ba6c",
   "metadata": {},
   "outputs": [],
   "source": [
    "#!pip install tensorflow-gpu"
   ]
  },
  {
   "cell_type": "code",
   "execution_count": 46,
   "id": "ad3aaf7e",
   "metadata": {
    "scrolled": false
   },
   "outputs": [],
   "source": [
    "#from tensorflow.python.client import device_lib \n",
    "#print(device_lib.list_local_devices())"
   ]
  },
  {
   "cell_type": "code",
   "execution_count": null,
   "id": "3590d643",
   "metadata": {
    "scrolled": false
   },
   "outputs": [],
   "source": []
  },
  {
   "cell_type": "code",
   "execution_count": 2,
   "id": "456d0f80",
   "metadata": {},
   "outputs": [
    {
     "name": "stdout",
     "output_type": "stream",
     "text": [
      "Num GPUs Available:  4\n"
     ]
    },
    {
     "data": {
      "text/plain": [
       "[PhysicalDevice(name='/physical_device:GPU:0', device_type='GPU'),\n",
       " PhysicalDevice(name='/physical_device:GPU:1', device_type='GPU'),\n",
       " PhysicalDevice(name='/physical_device:GPU:2', device_type='GPU'),\n",
       " PhysicalDevice(name='/physical_device:GPU:3', device_type='GPU')]"
      ]
     },
     "execution_count": 2,
     "metadata": {},
     "output_type": "execute_result"
    }
   ],
   "source": [
    "import tensorflow as tf\n",
    "print(\"Num GPUs Available: \", len(tf.config.experimental.list_physical_devices('GPU')))\n",
    "tf.config.experimental.list_physical_devices('GPU')\n"
   ]
  },
  {
   "cell_type": "code",
   "execution_count": null,
   "id": "d032e0aa",
   "metadata": {},
   "outputs": [],
   "source": []
  },
  {
   "cell_type": "code",
   "execution_count": 3,
   "id": "5f989de4",
   "metadata": {},
   "outputs": [],
   "source": [
    "# import\n",
    "\n",
    "import cv2\n",
    "import numpy as np\n",
    "from tensorflow.keras import layers\n",
    "from tensorflow.keras.applications import DenseNet169\n",
    "from tensorflow.keras.callbacks import Callback, ModelCheckpoint\n",
    "from tensorflow.keras.preprocessing.image import ImageDataGenerator\n",
    "from tensorflow.keras.models import Sequential\n",
    "from tensorflow.keras.optimizers import Adam\n",
    "import matplotlib.pyplot as plt\n",
    "import pandas as pd\n",
    "from sklearn.model_selection import train_test_split\n",
    "from sklearn import metrics\n",
    "import tensorflow as tf\n",
    "from tqdm import tqdm"
   ]
  },
  {
   "cell_type": "code",
   "execution_count": 29,
   "id": "a48e59a5",
   "metadata": {},
   "outputs": [
    {
     "name": "stdout",
     "output_type": "stream",
     "text": [
      "Found 1000 images belonging to 2 classes.\n",
      "Found 105 images belonging to 2 classes.\n",
      "Found 200 images belonging to 2 classes.\n"
     ]
    }
   ],
   "source": [
    "base_path = './140K-data/real_vs_fake/real-vs-fake/'\n",
    "image_gen = ImageDataGenerator(rescale=1./255.,validation_split = 0.01)\n",
    "batch_size = 48\n",
    "image_size = (224,224)\n",
    "train_flow = image_gen.flow_from_directory(\n",
    "    base_path + 'train/',\n",
    "    target_size=(224, 224),\n",
    "    batch_size=batch_size,\n",
    "    class_mode='binary',\n",
    "    subset = 'validation'\n",
    ")\n",
    "valid_flow = image_gen.flow_from_directory(\n",
    "    base_path + 'valid/',\n",
    "    target_size=(224, 224),\n",
    "    batch_size=batch_size,\n",
    "    class_mode='binary',\n",
    "    subset = 'validation'\n",
    ")\n",
    "test_flow = image_gen.flow_from_directory(\n",
    "    base_path + 'test/',\n",
    "    target_size=(224, 224),\n",
    "    batch_size=1,\n",
    "    shuffle=False,\n",
    "    class_mode='binary',\n",
    "    subset = 'validation'\n",
    ")"
   ]
  },
  {
   "cell_type": "code",
   "execution_count": 31,
   "id": "17abe5db",
   "metadata": {},
   "outputs": [],
   "source": [
    "densenet = DenseNet169(\n",
    "    weights=None,\n",
    "    include_top=False,\n",
    "    input_shape=(224,224,3)\n",
    ")\n",
    "#model = build_model(densenet)\n",
    "\n",
    "model = Sequential([\n",
    "    densenet,\n",
    "    #layers.Dropout(0.05),\n",
    "    layers.GlobalAveragePooling2D(),\n",
    "    \n",
    "    layers.BatchNormalization(),\n",
    "    layers.Dropout(0.05),\n",
    "    layers.Dense(32, activation='sigmoid'),\n",
    "    layers.Dropout(0.2),\n",
    "    layers.Dense(256, activation='sigmoid'),\n",
    "    layers.Dropout(0.05),\n",
    "    layers.Dense(512, activation='sigmoid'),\n",
    "    #layers.Dropout(0.05),\n",
    "    layers.Dense(1, activation='sigmoid', name = 'Dense_End')\n",
    "])\n",
    "    \n",
    "model.compile(\n",
    "    loss='binary_crossentropy',\n",
    "    optimizer=Adam(),\n",
    "    metrics=['accuracy']\n",
    ")\n"
   ]
  },
  {
   "cell_type": "code",
   "execution_count": 32,
   "id": "6a65ae3e",
   "metadata": {
    "scrolled": true
   },
   "outputs": [
    {
     "name": "stdout",
     "output_type": "stream",
     "text": [
      "Model: \"sequential_4\"\n",
      "_________________________________________________________________\n",
      "Layer (type)                 Output Shape              Param #   \n",
      "=================================================================\n",
      "densenet169 (Functional)     (None, 7, 7, 1664)        12642880  \n",
      "_________________________________________________________________\n",
      "global_average_pooling2d_3 ( (None, 1664)              0         \n",
      "_________________________________________________________________\n",
      "batch_normalization_3 (Batch (None, 1664)              6656      \n",
      "_________________________________________________________________\n",
      "dropout_3 (Dropout)          (None, 1664)              0         \n",
      "_________________________________________________________________\n",
      "dense_5 (Dense)              (None, 32)                53280     \n",
      "_________________________________________________________________\n",
      "dropout_4 (Dropout)          (None, 32)                0         \n",
      "_________________________________________________________________\n",
      "dense_6 (Dense)              (None, 256)               8448      \n",
      "_________________________________________________________________\n",
      "dropout_5 (Dropout)          (None, 256)               0         \n",
      "_________________________________________________________________\n",
      "dense_7 (Dense)              (None, 512)               131584    \n",
      "_________________________________________________________________\n",
      "Dense_End (Dense)            (None, 1)                 513       \n",
      "=================================================================\n",
      "Total params: 12,843,361\n",
      "Trainable params: 12,681,633\n",
      "Non-trainable params: 161,728\n",
      "_________________________________________________________________\n"
     ]
    }
   ],
   "source": [
    "model.summary()"
   ]
  },
  {
   "cell_type": "code",
   "execution_count": 23,
   "id": "7983ae52",
   "metadata": {},
   "outputs": [],
   "source": [
    "#print(train_flow)\n",
    "#train_flow[0:10]\n"
   ]
  },
  {
   "cell_type": "markdown",
   "id": "9fcdcae4",
   "metadata": {},
   "source": [
    "# Model Visualization"
   ]
  },
  {
   "cell_type": "code",
   "execution_count": 33,
   "id": "5fe032a9",
   "metadata": {},
   "outputs": [
    {
     "name": "stdout",
     "output_type": "stream",
     "text": [
      "Defaulting to user installation because normal site-packages is not writeable\n",
      "Requirement already satisfied: visualkeras in /usr4/cs542sp/yanjie17/.local/lib/python3.8/site-packages (0.0.2)\n",
      "Requirement already satisfied: pillow>=6.2.0 in /share/pkg.7/python3/3.8.10/install/lib/python3.8/site-packages (from visualkeras) (7.2.0)\n",
      "Requirement already satisfied: numpy>=1.18.1 in /share/pkg.7/tensorflow/2.3.1/install/lib/python3.8/site-packages (from visualkeras) (1.18.5)\n",
      "Requirement already satisfied: aggdraw>=1.3.11 in /usr4/cs542sp/yanjie17/.local/lib/python3.8/site-packages (from visualkeras) (1.3.12)\n",
      "\u001b[33mWARNING: You are using pip version 21.1.1; however, version 21.2.4 is available.\n",
      "You should consider upgrading via the '/share/pkg.7/python3/3.8.10/install/bin/python3.8 -m pip install --upgrade pip' command.\u001b[0m\n"
     ]
    },
    {
     "data": {
      "image/png": "[encoded data removed]",
      "text/plain": [
       "<PIL.Image.Image image mode=RGBA size=946x38 at 0x2AB3A54A80A0>"
      ]
     },
     "execution_count": 33,
     "metadata": {},
     "output_type": "execute_result"
    }
   ],
   "source": [
    "!pip install visualkeras\n",
    "import visualkeras\n",
    "\n",
    "#model = ...\n",
    "\n",
    "visualkeras.layered_view(model).show() # display using your system viewer\n",
    "visualkeras.layered_view(model, to_file='output.png') # write to disk\n",
    "visualkeras.layered_view(model, to_file='output.png').show() # write and show\n",
    "\n",
    "visualkeras.layered_view(model)"
   ]
  },
  {
   "cell_type": "code",
   "execution_count": null,
   "id": "93b60315",
   "metadata": {},
   "outputs": [],
   "source": []
  },
  {
   "cell_type": "code",
   "execution_count": null,
   "id": "7a36403a",
   "metadata": {},
   "outputs": [],
   "source": []
  },
  {
   "cell_type": "code",
   "execution_count": 35,
   "id": "f89979f0",
   "metadata": {
    "scrolled": true
   },
   "outputs": [
    {
     "name": "stdout",
     "output_type": "stream",
     "text": [
      "Epoch 1/10\n",
      "20/20 [==============================] - 23s 1s/step - loss: 0.7124 - accuracy: 0.5000 - val_loss: 1.0036 - val_accuracy: 0.0000e+00\n",
      "Epoch 2/10\n",
      "20/20 [==============================] - 23s 1s/step - loss: 0.6966 - accuracy: 0.5137 - val_loss: 0.7468 - val_accuracy: 0.3333\n",
      "Epoch 3/10\n",
      "20/20 [==============================] - 23s 1s/step - loss: 0.6924 - accuracy: 0.5515 - val_loss: 0.7551 - val_accuracy: 0.0625\n",
      "Epoch 4/10\n",
      "20/20 [==============================] - 23s 1s/step - loss: 0.6890 - accuracy: 0.5630 - val_loss: 0.6757 - val_accuracy: 0.7500\n",
      "Epoch 5/10\n",
      "20/20 [==============================] - 23s 1s/step - loss: 0.6815 - accuracy: 0.5830 - val_loss: 1.1361 - val_accuracy: 0.0833\n",
      "Epoch 6/10\n",
      "20/20 [==============================] - 23s 1s/step - loss: 0.7132 - accuracy: 0.5126 - val_loss: 0.6325 - val_accuracy: 0.8750\n",
      "Epoch 7/10\n",
      "20/20 [==============================] - 23s 1s/step - loss: 0.6927 - accuracy: 0.5284 - val_loss: 0.7248 - val_accuracy: 0.1667\n",
      "Epoch 8/10\n",
      "20/20 [==============================] - 23s 1s/step - loss: 0.6872 - accuracy: 0.5588 - val_loss: 0.7996 - val_accuracy: 0.3125\n",
      "Epoch 9/10\n",
      "20/20 [==============================] - 23s 1s/step - loss: 0.6779 - accuracy: 0.5735 - val_loss: 1.0334 - val_accuracy: 0.1042\n",
      "Epoch 10/10\n",
      "20/20 [==============================] - 23s 1s/step - loss: 0.6685 - accuracy: 0.5945 - val_loss: 0.7402 - val_accuracy: 0.7500\n"
     ]
    }
   ],
   "source": [
    "train_steps = 1000 //48\n",
    "valid_steps = 80//48\n",
    "history = model.fit_generator(\n",
    "    train_flow,\n",
    "    epochs=10,\n",
    "    steps_per_epoch = train_steps,\n",
    "    validation_data = valid_flow,\n",
    "    validation_steps = valid_steps\n",
    ")"
   ]
  },
  {
   "cell_type": "code",
   "execution_count": 36,
   "id": "bfe511cc",
   "metadata": {},
   "outputs": [],
   "source": [
    "model.save('densenet.h5')"
   ]
  },
  {
   "cell_type": "code",
   "execution_count": 37,
   "id": "6ddc5dd5",
   "metadata": {},
   "outputs": [
    {
     "name": "stdout",
     "output_type": "stream",
     "text": [
      "{'loss': [0.7123660445213318, 0.6966061592102051, 0.692436695098877, 0.6889755725860596, 0.6815422773361206, 0.7132439017295837, 0.6926712393760681, 0.6871652603149414, 0.6779374480247498, 0.6685216426849365], 'accuracy': [0.5, 0.5136554837226868, 0.5514705777168274, 0.5630252361297607, 0.5829831957817078, 0.5126050710678101, 0.5283613204956055, 0.5588235259056091, 0.5735294222831726, 0.5945377945899963], 'val_loss': [1.0035678148269653, 0.7468073964118958, 0.7550811171531677, 0.6756620407104492, 1.1361169815063477, 0.6325373649597168, 0.7247850298881531, 0.7995687127113342, 1.0333501100540161, 0.7401900291442871], 'val_accuracy': [0.0, 0.3333333432674408, 0.0625, 0.75, 0.0833333358168602, 0.875, 0.1666666716337204, 0.3125, 0.1041666641831398, 0.75]}\n"
     ]
    }
   ],
   "source": [
    "print(history.history)"
   ]
  },
  {
   "cell_type": "code",
   "execution_count": 38,
   "id": "f92e500f",
   "metadata": {
    "scrolled": true
   },
   "outputs": [
    {
     "data": {
      "image/png": "[encoded data removed]",
      "text/plain": [
       "<Figure size 432x288 with 1 Axes>"
      ]
     },
     "metadata": {
      "needs_background": "light"
     },
     "output_type": "display_data"
    },
    {
     "data": {
      "image/png": "[encoded data removed]",
      "text/plain": [
       "<Figure size 432x288 with 1 Axes>"
      ]
     },
     "metadata": {
      "needs_background": "light"
     },
     "output_type": "display_data"
    }
   ],
   "source": [
    "\"\"\"\n",
    "Plot the training and validation loss\n",
    "epochs - list of epoch numbers\n",
    "loss - training loss for each epoch\n",
    "val_loss - validation loss for each epoch\n",
    "\"\"\"\n",
    "def plot_loss(epochs, loss, val_loss):\n",
    "    plt.plot(epochs, loss, '*-b', label='Training Loss')\n",
    "    plt.plot(epochs, val_loss, '*-r', label = 'Validation Loss')\n",
    "    plt.title('Training and Validation Loss')\n",
    "    plt.legend()\n",
    "    plt.show()\n",
    "\"\"\"\n",
    "Plot the training and validation accuracy\n",
    "epochs - list of epoch numbers\n",
    "acc - training accuracy for each epoch\n",
    "val_acc - validation accuracy for each epoch\n",
    "\"\"\"\n",
    "def plot_accuracy(epochs, acc, val_acc):\n",
    "    plt.plot(epochs, acc, '*-b', label='Training accuracy')\n",
    "    plt.plot(epochs, val_acc, '*-r', label = 'Validation accuracy')\n",
    "    plt.title('Training and Validation Accuracy')\n",
    "    plt.legend()\n",
    "    plt.show()\n",
    "    \n",
    "acc = history.history['accuracy']\n",
    "val_acc = history.history['val_accuracy']\n",
    "loss = history.history['loss']\n",
    "val_loss = history.history['val_loss']\n",
    "\n",
    "plot_loss(range(1, len(loss) + 1), loss, val_loss)\n",
    "plot_accuracy(range(1, len(loss) + 1), acc, val_acc)"
   ]
  },
  {
   "cell_type": "markdown",
   "id": "2ed92a2b",
   "metadata": {},
   "source": [
    "# Predict and Evaluation"
   ]
  },
  {
   "cell_type": "code",
   "execution_count": 39,
   "id": "d0bf9f16",
   "metadata": {},
   "outputs": [
    {
     "name": "stdout",
     "output_type": "stream",
     "text": [
      "['loss', 'accuracy']\n",
      "Found 200 images belonging to 2 classes.\n",
      "200\n",
      "200/200 [==============================] - 8s 38ms/step - loss: 0.6709 - accuracy: 0.5650\n",
      "Test loss: 0.6709374785423279\n",
      "Test accuracy: 0.5649999976158142\n",
      "['loss', 'accuracy']\n"
     ]
    }
   ],
   "source": [
    "print(model.metrics_names)\n",
    "test_datagen = ImageDataGenerator(rescale=1. / 255, validation_split = 0.01)\n",
    "testpath = './140K-data/real_vs_fake/real-vs-fake/'\n",
    "\n",
    "eval_generator = test_datagen.flow_from_directory(testpath + 'test/',\n",
    "                                                  target_size=image_size,\n",
    "                                                  batch_size=1,\n",
    "                                                  shuffle=True,\n",
    "                                                  seed=42,\n",
    "                                                  class_mode=\"binary\",\n",
    "                                                  subset = 'validation'\n",
    "                                                 )\n",
    "eval_generator.reset()\n",
    "print(len(eval_generator))\n",
    "#x = model.evaluate_generator(eval_generator,steps = np.ceil(len(eval_generator)),\n",
    "                          # use_multiprocessing = False,verbose = 1,workers=1)\n",
    "x = model.evaluate(eval_generator)\n",
    "\n",
    "print('Test loss:' , x[0])\n",
    "print('Test accuracy:',x[1])\n",
    "print(model.metrics_names)"
   ]
  },
  {
   "cell_type": "code",
   "execution_count": 40,
   "id": "99c8720d",
   "metadata": {},
   "outputs": [],
   "source": [
    "y_pred = model.predict(eval_generator)\n",
    "y_test = eval_generator.classes"
   ]
  },
  {
   "cell_type": "code",
   "execution_count": 41,
   "id": "43ace3eb",
   "metadata": {},
   "outputs": [
    {
     "name": "stdout",
     "output_type": "stream",
     "text": [
      "ROC AUC Score: 0.5079500000000001\n",
      "AP Score: 0.5089494194832265\n",
      "\n",
      "              precision    recall  f1-score   support\n",
      "\n",
      "           0       0.49      0.79      0.61       100\n",
      "           1       0.46      0.18      0.26       100\n",
      "\n",
      "    accuracy                           0.48       200\n",
      "   macro avg       0.48      0.48      0.43       200\n",
      "weighted avg       0.48      0.48      0.43       200\n",
      "\n"
     ]
    }
   ],
   "source": [
    "from sklearn import metrics\n",
    "print(\"ROC AUC Score:\", metrics.roc_auc_score(y_test, y_pred))\n",
    "print(\"AP Score:\", metrics.average_precision_score(y_test, y_pred))\n",
    "print()\n",
    "print(metrics.classification_report(y_test, y_pred > 0.5))"
   ]
  },
  {
   "cell_type": "code",
   "execution_count": null,
   "id": "4895a191",
   "metadata": {},
   "outputs": [],
   "source": []
  },
  {
   "cell_type": "code",
   "execution_count": null,
   "id": "4b4907a3",
   "metadata": {
    "scrolled": true
   },
   "outputs": [],
   "source": []
  },
  {
   "cell_type": "markdown",
   "id": "3b0626a6",
   "metadata": {},
   "source": [
    "## TSNE Graph\n"
   ]
  },
  {
   "cell_type": "code",
   "execution_count": 42,
   "id": "0b304585",
   "metadata": {},
   "outputs": [],
   "source": [
    "#model.get_layer(\"dense_1\").output\n",
    "#l = [module for module in model.modules() if not isinstance(module, nn.Sequential)]"
   ]
  },
  {
   "cell_type": "code",
   "execution_count": 43,
   "id": "c2701f57",
   "metadata": {},
   "outputs": [
    {
     "name": "stdout",
     "output_type": "stream",
     "text": [
      "Found 70 images belonging to 2 classes.\n",
      " 1/70 [..............................] - ETA: 0sWARNING:tensorflow:Callbacks method `on_predict_batch_end` is slow compared to the batch time (batch time: 0.0110s vs `on_predict_batch_end` time: 0.0270s). Check your callbacks.\n",
      "70/70 [==============================] - 3s 37ms/step\n",
      "(70, 1)\n",
      "(70, 2)\n",
      "35\n",
      "35\n",
      "[0 0 0 0 0 0 0 0 0 0 0 0 0 0 0 0 0 0 0 0 0 0 0 0 0 0 0 0 0 0 0 0 0 0 0 1 1\n",
      " 1 1 1 1 1 1 1 1 1 1 1 1 1 1 1 1 1 1 1 1 1 1 1 1 1 1 1 1 1 1 1 1 1]\n"
     ]
    },
    {
     "data": {
      "text/plain": [
       "<matplotlib.legend.Legend at 0x2ab3bc222f10>"
      ]
     },
     "execution_count": 43,
     "metadata": {},
     "output_type": "execute_result"
    },
    {
     "data": {
      "image/png": "[encoded data removed]",
      "text/plain": [
       "<Figure size 432x288 with 1 Axes>"
      ]
     },
     "metadata": {
      "needs_background": "light"
     },
     "output_type": "display_data"
    }
   ],
   "source": [
    "from sklearn.manifold import TSNE\n",
    "\n",
    "intermediate_layer_model = tf.keras.models.Model(inputs=model.input,\n",
    "                                        outputs=model.get_layer('Dense_End').output)\n",
    "\n",
    "newDataGen = ImageDataGenerator(rescale=1. / 255, validation_split = 0.0035)\n",
    "\n",
    "tsne_eval_generator = newDataGen.flow_from_directory(base_path+'test/',target_size=image_size,\n",
    "                                                  batch_size=1,shuffle=False,seed=42,class_mode=\"binary\", subset = 'validation')\n",
    "\n",
    "    \n",
    "pred = intermediate_layer_model.predict_generator(tsne_eval_generator,70,verbose=1)\n",
    "print(pred.shape)\n",
    "features = TSNE(n_components=2).fit_transform(pred)\n",
    "print(features.shape)\n",
    "\n",
    "x1,x2,y1,y2 = [],[],[],[]\n",
    "cls = tsne_eval_generator.classes\n",
    "sumA = 0 \n",
    "sumB = 0\n",
    "for i in cls:\n",
    "    if i ==0:\n",
    "        sumA+=1\n",
    "    else:\n",
    "        sumB+=1\n",
    "        \n",
    "print(sumA)\n",
    "print(sumB)\n",
    "print(cls)\n",
    "for i in range(len(features)):\n",
    "    if cls[i] == 0: \n",
    "        x1.append(features[i, 0])\n",
    "        y1.append(features[i, 1])    \n",
    "    else:\n",
    "        x2.append(features[i, 0])\n",
    "        y2.append(features[i, 1])\n",
    "\n",
    "plt.figure()\n",
    "plt.plot(x1, y1, 'ro', label=\"real\")\n",
    "plt.plot(x2, y2, 'bo', label=\"fake\")\n",
    "plt.legend(loc='lower right')"
   ]
  },
  {
   "cell_type": "code",
   "execution_count": null,
   "id": "b3f431e0",
   "metadata": {},
   "outputs": [],
   "source": []
  },
  {
   "cell_type": "code",
   "execution_count": null,
   "id": "39d2b4d5",
   "metadata": {},
   "outputs": [],
   "source": []
  }
 ],
 "metadata": {
  "kernelspec": {
   "display_name": "Python 3",
   "language": "python",
   "name": "python3"
  },
  "language_info": {
   "codemirror_mode": {
    "name": "ipython",
    "version": 3
   },
   "file_extension": ".py",
   "mimetype": "text/x-python",
   "name": "python",
   "nbconvert_exporter": "python",
   "pygments_lexer": "ipython3",
   "version": "3.8.10"
  }
 },
 "nbformat": 4,
 "nbformat_minor": 5
}
